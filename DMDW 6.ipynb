{
  "nbformat": 4,
  "nbformat_minor": 0,
  "metadata": {
    "colab": {
      "provenance": []
    },
    "kernelspec": {
      "name": "python3",
      "display_name": "Python 3"
    },
    "language_info": {
      "name": "python"
    }
  },
  "cells": [
    {
      "cell_type": "code",
      "execution_count": null,
      "metadata": {
        "id": "WCVMrCwoFN-s"
      },
      "outputs": [],
      "source": [
        "#FIND FREQUENT PATTERN,ASSOCIATIONS,CORRELATION OR CASUAL STRUCTURES AMONG THE SET OF ITEMS IN TRANSACTION DATABASE."
      ]
    },
    {
      "cell_type": "code",
      "source": [
        "'''\n",
        "TID items bought\n",
        "T100 {M, O, N, K, E, Y}\n",
        "T200 {D, O, N, K, E, Y }\n",
        "T300 {M, A, K, E}\n",
        "T400 {M, U, C, K, Y}\n",
        "T500 {C, O, O, K, I, E}\n",
        "'''"
      ],
      "metadata": {
        "colab": {
          "base_uri": "https://localhost:8080/",
          "height": 35
        },
        "id": "H8FkZ-XfFWU6",
        "outputId": "6eeac767-17a8-4b77-93a0-58b775da85c6"
      },
      "execution_count": null,
      "outputs": [
        {
          "output_type": "execute_result",
          "data": {
            "text/plain": [
              "'\\nTID items bought\\nT100 {M, O, N, K, E, Y}\\nT200 {D, O, N, K, E, Y }\\nT300 {M, A, K, E}\\nT400 {M, U, C, K, Y}\\nT500 {C, O, O, K, I, E}\\n'"
            ],
            "application/vnd.google.colaboratory.intrinsic+json": {
              "type": "string"
            }
          },
          "metadata": {},
          "execution_count": 3
        }
      ]
    },
    {
      "cell_type": "code",
      "source": [
        "import pandas as pd\n",
        "from mlxtend.frequent_patterns import apriori, association_rules"
      ],
      "metadata": {
        "id": "Sp1R61uNFk26"
      },
      "execution_count": null,
      "outputs": []
    },
    {
      "cell_type": "code",
      "source": [
        "data = {\n",
        "    'Transaction_ID': ['T100', 'T200', 'T300', 'T400', 'T500'],\n",
        "    'Items_bought': [\n",
        "        {'M', 'O', 'N', 'K', 'E', 'Y'},\n",
        "        {'D', 'O', 'N', 'K', 'E', 'Y'},\n",
        "        {'M', 'A', 'K', 'E'},\n",
        "        {'M', 'U', 'C', 'K', 'Y'},\n",
        "        {'C', 'O', 'O', 'K', 'I', 'E'}\n",
        "    ]\n",
        "}"
      ],
      "metadata": {
        "colab": {
          "base_uri": "https://localhost:8080/"
        },
        "id": "g06KE0ygFqzq",
        "outputId": "b6eabf09-9ca5-4a89-90c1-1b9319211cf1"
      },
      "execution_count": null,
      "outputs": [
        {
          "output_type": "stream",
          "name": "stderr",
          "text": [
            "/usr/local/lib/python3.10/dist-packages/ipykernel/ipkernel.py:283: DeprecationWarning: `should_run_async` will not call `transform_cell` automatically in the future. Please pass the result to `transformed_cell` argument and any exception that happen during thetransform in `preprocessing_exc_tuple` in IPython 7.17 and above.\n",
            "  and should_run_async(code)\n"
          ]
        }
      ]
    },
    {
      "cell_type": "code",
      "source": [
        "df = pd.DataFrame(data)"
      ],
      "metadata": {
        "colab": {
          "base_uri": "https://localhost:8080/"
        },
        "id": "w2wnZdvWFucJ",
        "outputId": "739ab598-72fe-4d38-bdcc-ce8f57bfaa2d"
      },
      "execution_count": null,
      "outputs": [
        {
          "output_type": "stream",
          "name": "stderr",
          "text": [
            "/usr/local/lib/python3.10/dist-packages/ipykernel/ipkernel.py:283: DeprecationWarning: `should_run_async` will not call `transform_cell` automatically in the future. Please pass the result to `transformed_cell` argument and any exception that happen during thetransform in `preprocessing_exc_tuple` in IPython 7.17 and above.\n",
            "  and should_run_async(code)\n"
          ]
        }
      ]
    },
    {
      "cell_type": "code",
      "source": [
        "# Convert the 'Items_bought' column to a list of itemsets\n",
        "df['Items_bought'] = df['Items_bought'].apply(list)"
      ],
      "metadata": {
        "colab": {
          "base_uri": "https://localhost:8080/"
        },
        "id": "ZBpUsPnNFx-p",
        "outputId": "eb8bffdd-d9b3-431d-81ae-4e320736980f"
      },
      "execution_count": null,
      "outputs": [
        {
          "output_type": "stream",
          "name": "stderr",
          "text": [
            "/usr/local/lib/python3.10/dist-packages/ipykernel/ipkernel.py:283: DeprecationWarning: `should_run_async` will not call `transform_cell` automatically in the future. Please pass the result to `transformed_cell` argument and any exception that happen during thetransform in `preprocessing_exc_tuple` in IPython 7.17 and above.\n",
            "  and should_run_async(code)\n"
          ]
        }
      ]
    },
    {
      "cell_type": "code",
      "source": [
        "# Perform one-hot encoding to prepare the data for Apriori\n",
        "oht = pd.get_dummies(df['Items_bought'].explode()).groupby(level=0).max()"
      ],
      "metadata": {
        "colab": {
          "base_uri": "https://localhost:8080/"
        },
        "id": "zwtFO3V4F0OJ",
        "outputId": "52a6c017-9f42-4c67-826c-05819677ebb3"
      },
      "execution_count": null,
      "outputs": [
        {
          "output_type": "stream",
          "name": "stderr",
          "text": [
            "/usr/local/lib/python3.10/dist-packages/ipykernel/ipkernel.py:283: DeprecationWarning: `should_run_async` will not call `transform_cell` automatically in the future. Please pass the result to `transformed_cell` argument and any exception that happen during thetransform in `preprocessing_exc_tuple` in IPython 7.17 and above.\n",
            "  and should_run_async(code)\n"
          ]
        }
      ]
    },
    {
      "cell_type": "code",
      "source": [
        "# Initialize step counters\n",
        "step = 1"
      ],
      "metadata": {
        "colab": {
          "base_uri": "https://localhost:8080/"
        },
        "id": "zkcZtg4hF4AZ",
        "outputId": "64350045-7298-41e8-f15d-84a31eb2e6cc"
      },
      "execution_count": null,
      "outputs": [
        {
          "output_type": "stream",
          "name": "stderr",
          "text": [
            "/usr/local/lib/python3.10/dist-packages/ipykernel/ipkernel.py:283: DeprecationWarning: `should_run_async` will not call `transform_cell` automatically in the future. Please pass the result to `transformed_cell` argument and any exception that happen during thetransform in `preprocessing_exc_tuple` in IPython 7.17 and above.\n",
            "  and should_run_async(code)\n"
          ]
        }
      ]
    },
    {
      "cell_type": "code",
      "source": [
        "# Step 1: Scan dataset for count of each item and itemset (C1)\n",
        "print(f\"Step {step}: Count of each item (C1):\")\n",
        "c1 = oht.sum()\n",
        "print(c1)"
      ],
      "metadata": {
        "colab": {
          "base_uri": "https://localhost:8080/"
        },
        "id": "O04ANlNIF7D5",
        "outputId": "bf0408da-9e86-4cbf-e8b0-0aa086803e00"
      },
      "execution_count": null,
      "outputs": [
        {
          "output_type": "stream",
          "name": "stdout",
          "text": [
            "Step 1: Count of each item (C1):\n",
            "A    1\n",
            "C    2\n",
            "D    1\n",
            "E    4\n",
            "I    1\n",
            "K    5\n",
            "M    3\n",
            "N    2\n",
            "O    3\n",
            "U    1\n",
            "Y    3\n",
            "dtype: int64\n"
          ]
        },
        {
          "output_type": "stream",
          "name": "stderr",
          "text": [
            "/usr/local/lib/python3.10/dist-packages/ipykernel/ipkernel.py:283: DeprecationWarning: `should_run_async` will not call `transform_cell` automatically in the future. Please pass the result to `transformed_cell` argument and any exception that happen during thetransform in `preprocessing_exc_tuple` in IPython 7.17 and above.\n",
            "  and should_run_async(code)\n"
          ]
        }
      ]
    },
    {
      "cell_type": "code",
      "source": [
        "# Increment step counter\n",
        "step += 1"
      ],
      "metadata": {
        "colab": {
          "base_uri": "https://localhost:8080/"
        },
        "id": "iai8Ica9F9jp",
        "outputId": "1e4bb4e3-7429-4e15-b682-d650890072e8"
      },
      "execution_count": null,
      "outputs": [
        {
          "output_type": "stream",
          "name": "stderr",
          "text": [
            "/usr/local/lib/python3.10/dist-packages/ipykernel/ipkernel.py:283: DeprecationWarning: `should_run_async` will not call `transform_cell` automatically in the future. Please pass the result to `transformed_cell` argument and any exception that happen during thetransform in `preprocessing_exc_tuple` in IPython 7.17 and above.\n",
            "  and should_run_async(code)\n"
          ]
        }
      ]
    },
    {
      "cell_type": "code",
      "source": [
        "# Step 2: Find out frequent one-itemset from C1 according to support count (L1)\n",
        "min_support = 0.6\n",
        "print(f\"\\nStep {step}: Frequent one-itemset (L1) with support >= {min_support}:\")\n",
        "l1 = c1[c1 >= min_support]\n",
        "print(l1)"
      ],
      "metadata": {
        "colab": {
          "base_uri": "https://localhost:8080/"
        },
        "id": "c_LY_zhyGC1a",
        "outputId": "5228f231-e5b4-45e8-fb8c-fdd41e198f2f"
      },
      "execution_count": null,
      "outputs": [
        {
          "output_type": "stream",
          "name": "stdout",
          "text": [
            "\n",
            "Step 2: Frequent one-itemset (L1) with support >= 0.6:\n",
            "A    1\n",
            "C    2\n",
            "D    1\n",
            "E    4\n",
            "I    1\n",
            "K    5\n",
            "M    3\n",
            "N    2\n",
            "O    3\n",
            "U    1\n",
            "Y    3\n",
            "dtype: int64\n"
          ]
        },
        {
          "output_type": "stream",
          "name": "stderr",
          "text": [
            "/usr/local/lib/python3.10/dist-packages/ipykernel/ipkernel.py:283: DeprecationWarning: `should_run_async` will not call `transform_cell` automatically in the future. Please pass the result to `transformed_cell` argument and any exception that happen during thetransform in `preprocessing_exc_tuple` in IPython 7.17 and above.\n",
            "  and should_run_async(code)\n"
          ]
        }
      ]
    },
    {
      "cell_type": "code",
      "source": [
        "# Increment step counter\n",
        "step += 1"
      ],
      "metadata": {
        "colab": {
          "base_uri": "https://localhost:8080/"
        },
        "id": "cj9vykjQGF36",
        "outputId": "bda2f2aa-7074-45fb-9e1d-9f2a6dbe3e49"
      },
      "execution_count": null,
      "outputs": [
        {
          "output_type": "stream",
          "name": "stderr",
          "text": [
            "/usr/local/lib/python3.10/dist-packages/ipykernel/ipkernel.py:283: DeprecationWarning: `should_run_async` will not call `transform_cell` automatically in the future. Please pass the result to `transformed_cell` argument and any exception that happen during thetransform in `preprocessing_exc_tuple` in IPython 7.17 and above.\n",
            "  and should_run_async(code)\n"
          ]
        }
      ]
    },
    {
      "cell_type": "code",
      "source": [
        "# Step 3: Generate two-itemsets from L1 and find their frequency counts (C2)\n",
        "print(f\"\\nStep {step}: Generating two-itemsets (C2):\")\n",
        "c2 = apriori(oht, min_support=min_support, use_colnames=True)\n",
        "print(c2)"
      ],
      "metadata": {
        "colab": {
          "base_uri": "https://localhost:8080/"
        },
        "id": "0rf1FzomGId6",
        "outputId": "1fb55aa9-71c0-40eb-e120-81ed7f2d8e4e"
      },
      "execution_count": null,
      "outputs": [
        {
          "output_type": "stream",
          "name": "stdout",
          "text": [
            "\n",
            "Step 3: Generating two-itemsets (C2):\n",
            "    support   itemsets\n",
            "0       0.8        (E)\n",
            "1       1.0        (K)\n",
            "2       0.6        (M)\n",
            "3       0.6        (O)\n",
            "4       0.6        (Y)\n",
            "5       0.8     (E, K)\n",
            "6       0.6     (E, O)\n",
            "7       0.6     (M, K)\n",
            "8       0.6     (K, O)\n",
            "9       0.6     (Y, K)\n",
            "10      0.6  (E, K, O)\n"
          ]
        },
        {
          "output_type": "stream",
          "name": "stderr",
          "text": [
            "/usr/local/lib/python3.10/dist-packages/ipykernel/ipkernel.py:283: DeprecationWarning: `should_run_async` will not call `transform_cell` automatically in the future. Please pass the result to `transformed_cell` argument and any exception that happen during thetransform in `preprocessing_exc_tuple` in IPython 7.17 and above.\n",
            "  and should_run_async(code)\n",
            "/usr/local/lib/python3.10/dist-packages/mlxtend/frequent_patterns/fpcommon.py:110: DeprecationWarning: DataFrames with non-bool types result in worse computationalperformance and their support might be discontinued in the future.Please use a DataFrame with bool type\n",
            "  warnings.warn(\n"
          ]
        }
      ]
    },
    {
      "cell_type": "code",
      "source": [
        "# Increment step counter\n",
        "step += 1"
      ],
      "metadata": {
        "colab": {
          "base_uri": "https://localhost:8080/"
        },
        "id": "Ad9qL4MXGLRa",
        "outputId": "3ec2125d-3b21-4a1c-f917-e61a68dbdd3a"
      },
      "execution_count": null,
      "outputs": [
        {
          "output_type": "stream",
          "name": "stderr",
          "text": [
            "/usr/local/lib/python3.10/dist-packages/ipykernel/ipkernel.py:283: DeprecationWarning: `should_run_async` will not call `transform_cell` automatically in the future. Please pass the result to `transformed_cell` argument and any exception that happen during thetransform in `preprocessing_exc_tuple` in IPython 7.17 and above.\n",
            "  and should_run_async(code)\n"
          ]
        }
      ]
    },
    {
      "cell_type": "code",
      "source": [
        "# Step 4: From C2, generate L2 which is the list of frequent two-itemsets\n",
        "print(f\"\\nStep {step}: Frequent two-itemsets (L2) with support >= {min_support}:\")\n",
        "l2 = c2[c2['support'] >= min_support]\n",
        "print(l2)"
      ],
      "metadata": {
        "colab": {
          "base_uri": "https://localhost:8080/"
        },
        "id": "efyhjTR9GOI5",
        "outputId": "511d30aa-5f01-4ca1-d4ec-6d38f5ad4523"
      },
      "execution_count": null,
      "outputs": [
        {
          "output_type": "stream",
          "name": "stdout",
          "text": [
            "\n",
            "Step 4: Frequent two-itemsets (L2) with support >= 0.6:\n",
            "    support   itemsets\n",
            "0       0.8        (E)\n",
            "1       1.0        (K)\n",
            "2       0.6        (M)\n",
            "3       0.6        (O)\n",
            "4       0.6        (Y)\n",
            "5       0.8     (E, K)\n",
            "6       0.6     (E, O)\n",
            "7       0.6     (M, K)\n",
            "8       0.6     (K, O)\n",
            "9       0.6     (Y, K)\n",
            "10      0.6  (E, K, O)\n"
          ]
        },
        {
          "output_type": "stream",
          "name": "stderr",
          "text": [
            "/usr/local/lib/python3.10/dist-packages/ipykernel/ipkernel.py:283: DeprecationWarning: `should_run_async` will not call `transform_cell` automatically in the future. Please pass the result to `transformed_cell` argument and any exception that happen during thetransform in `preprocessing_exc_tuple` in IPython 7.17 and above.\n",
            "  and should_run_async(code)\n"
          ]
        }
      ]
    },
    {
      "cell_type": "code",
      "source": [
        "# Increment step counter\n",
        "step += 1"
      ],
      "metadata": {
        "colab": {
          "base_uri": "https://localhost:8080/"
        },
        "id": "0sBAhvc-GUva",
        "outputId": "8283523a-a7e3-4998-aa7a-d4693aee035b"
      },
      "execution_count": null,
      "outputs": [
        {
          "output_type": "stream",
          "name": "stderr",
          "text": [
            "/usr/local/lib/python3.10/dist-packages/ipykernel/ipkernel.py:283: DeprecationWarning: `should_run_async` will not call `transform_cell` automatically in the future. Please pass the result to `transformed_cell` argument and any exception that happen during thetransform in `preprocessing_exc_tuple` in IPython 7.17 and above.\n",
            "  and should_run_async(code)\n"
          ]
        }
      ]
    },
    {
      "cell_type": "code",
      "source": [
        "# Step 5: Generate C3 from L2 (candidates for three-itemset)\n",
        "print(f\"\\nStep {step}: Generating candidates for three-itemsets (C3):\")\n",
        "c3 = apriori(oht, min_support=min_support, use_colnames=True)\n",
        "print(c3)"
      ],
      "metadata": {
        "colab": {
          "base_uri": "https://localhost:8080/"
        },
        "id": "ih0kVatQGYd5",
        "outputId": "fe9859c1-9057-49c4-b2dd-0ef05c36f516"
      },
      "execution_count": null,
      "outputs": [
        {
          "output_type": "stream",
          "name": "stdout",
          "text": [
            "\n",
            "Step 5: Generating candidates for three-itemsets (C3):\n",
            "    support   itemsets\n",
            "0       0.8        (E)\n",
            "1       1.0        (K)\n",
            "2       0.6        (M)\n",
            "3       0.6        (O)\n",
            "4       0.6        (Y)\n",
            "5       0.8     (E, K)\n",
            "6       0.6     (E, O)\n",
            "7       0.6     (M, K)\n",
            "8       0.6     (K, O)\n",
            "9       0.6     (Y, K)\n",
            "10      0.6  (E, K, O)\n"
          ]
        },
        {
          "output_type": "stream",
          "name": "stderr",
          "text": [
            "/usr/local/lib/python3.10/dist-packages/ipykernel/ipkernel.py:283: DeprecationWarning: `should_run_async` will not call `transform_cell` automatically in the future. Please pass the result to `transformed_cell` argument and any exception that happen during thetransform in `preprocessing_exc_tuple` in IPython 7.17 and above.\n",
            "  and should_run_async(code)\n",
            "/usr/local/lib/python3.10/dist-packages/mlxtend/frequent_patterns/fpcommon.py:110: DeprecationWarning: DataFrames with non-bool types result in worse computationalperformance and their support might be discontinued in the future.Please use a DataFrame with bool type\n",
            "  warnings.warn(\n"
          ]
        }
      ]
    },
    {
      "cell_type": "code",
      "source": [
        "# Increment step counter\n",
        "step += 1"
      ],
      "metadata": {
        "colab": {
          "base_uri": "https://localhost:8080/"
        },
        "id": "K8gPX2mqGc5J",
        "outputId": "935856c5-dc7f-4bdc-c465-50d2dc43cd6b"
      },
      "execution_count": null,
      "outputs": [
        {
          "output_type": "stream",
          "name": "stderr",
          "text": [
            "/usr/local/lib/python3.10/dist-packages/ipykernel/ipkernel.py:283: DeprecationWarning: `should_run_async` will not call `transform_cell` automatically in the future. Please pass the result to `transformed_cell` argument and any exception that happen during thetransform in `preprocessing_exc_tuple` in IPython 7.17 and above.\n",
            "  and should_run_async(code)\n"
          ]
        }
      ]
    },
    {
      "cell_type": "code",
      "source": [
        "# Step 6: Stop when not possible  l3=c3\n",
        "print(f\"\\nStep {step}: Stopping as there are no candidates for three-itemsets.\")"
      ],
      "metadata": {
        "colab": {
          "base_uri": "https://localhost:8080/"
        },
        "id": "GhCEKOnnGjop",
        "outputId": "695b5253-0308-4842-d752-fb409fba054c"
      },
      "execution_count": null,
      "outputs": [
        {
          "output_type": "stream",
          "name": "stdout",
          "text": [
            "\n",
            "Step 6: Stopping as there are no candidates for three-itemsets.\n"
          ]
        },
        {
          "output_type": "stream",
          "name": "stderr",
          "text": [
            "/usr/local/lib/python3.10/dist-packages/ipykernel/ipkernel.py:283: DeprecationWarning: `should_run_async` will not call `transform_cell` automatically in the future. Please pass the result to `transformed_cell` argument and any exception that happen during thetransform in `preprocessing_exc_tuple` in IPython 7.17 and above.\n",
            "  and should_run_async(code)\n"
          ]
        }
      ]
    },
    {
      "cell_type": "code",
      "source": [
        "# Output the final frequent itemsets (L2)\n",
        "print(\"\\nFinal Frequent Itemsets (L2):\")\n",
        "print(l2)"
      ],
      "metadata": {
        "colab": {
          "base_uri": "https://localhost:8080/"
        },
        "id": "nPRqxlyAGmB5",
        "outputId": "c9122ddd-3d7c-4a78-f964-67fc18f7cd93"
      },
      "execution_count": null,
      "outputs": [
        {
          "output_type": "stream",
          "name": "stdout",
          "text": [
            "\n",
            "Final Frequent Itemsets (L2):\n",
            "    support   itemsets\n",
            "0       0.8        (E)\n",
            "1       1.0        (K)\n",
            "2       0.6        (M)\n",
            "3       0.6        (O)\n",
            "4       0.6        (Y)\n",
            "5       0.8     (E, K)\n",
            "6       0.6     (E, O)\n",
            "7       0.6     (M, K)\n",
            "8       0.6     (K, O)\n",
            "9       0.6     (Y, K)\n",
            "10      0.6  (E, K, O)\n"
          ]
        },
        {
          "output_type": "stream",
          "name": "stderr",
          "text": [
            "/usr/local/lib/python3.10/dist-packages/ipykernel/ipkernel.py:283: DeprecationWarning: `should_run_async` will not call `transform_cell` automatically in the future. Please pass the result to `transformed_cell` argument and any exception that happen during thetransform in `preprocessing_exc_tuple` in IPython 7.17 and above.\n",
            "  and should_run_async(code)\n"
          ]
        }
      ]
    },
    {
      "cell_type": "code",
      "source": [
        "# Set the minimum confidence threshold\n",
        "min_confidence = 0.8"
      ],
      "metadata": {
        "colab": {
          "base_uri": "https://localhost:8080/"
        },
        "id": "KyJlEY7BJKSc",
        "outputId": "3686141b-070f-42f0-ff15-7aae54c5ce9e"
      },
      "execution_count": null,
      "outputs": [
        {
          "output_type": "stream",
          "name": "stderr",
          "text": [
            "/usr/local/lib/python3.10/dist-packages/ipykernel/ipkernel.py:283: DeprecationWarning: `should_run_async` will not call `transform_cell` automatically in the future. Please pass the result to `transformed_cell` argument and any exception that happen during thetransform in `preprocessing_exc_tuple` in IPython 7.17 and above.\n",
            "  and should_run_async(code)\n"
          ]
        }
      ]
    },
    {
      "cell_type": "code",
      "source": [
        "# Find strong association rules\n",
        "association_rules_df = association_rules(l2, metric=\"confidence\", min_threshold=min_confidence)"
      ],
      "metadata": {
        "colab": {
          "base_uri": "https://localhost:8080/"
        },
        "id": "G1XDGyCVJQd6",
        "outputId": "62cfcf50-0279-4455-864c-96da090b6328"
      },
      "execution_count": null,
      "outputs": [
        {
          "output_type": "stream",
          "name": "stderr",
          "text": [
            "/usr/local/lib/python3.10/dist-packages/ipykernel/ipkernel.py:283: DeprecationWarning: `should_run_async` will not call `transform_cell` automatically in the future. Please pass the result to `transformed_cell` argument and any exception that happen during thetransform in `preprocessing_exc_tuple` in IPython 7.17 and above.\n",
            "  and should_run_async(code)\n"
          ]
        }
      ]
    },
    {
      "cell_type": "code",
      "source": [],
      "metadata": {
        "id": "oae-oDZsSeTB"
      },
      "execution_count": null,
      "outputs": []
    },
    {
      "cell_type": "code",
      "source": [
        "# Print the strong association rules\n",
        "print(\"\\nStrong Association Rules with Confidence >= 80%:\")\n",
        "print(association_rules_df)"
      ],
      "metadata": {
        "colab": {
          "base_uri": "https://localhost:8080/"
        },
        "id": "wKrbSQa8JQh_",
        "outputId": "2b2f64eb-de38-4d95-d33e-2ee9540c2d17"
      },
      "execution_count": null,
      "outputs": [
        {
          "output_type": "stream",
          "name": "stdout",
          "text": [
            "\n",
            "Strong Association Rules with Confidence >= 80%:\n",
            "  antecedents consequents  antecedent support  consequent support  support  \\\n",
            "0         (E)         (K)                 0.8                 1.0      0.8   \n",
            "1         (K)         (E)                 1.0                 0.8      0.8   \n",
            "2         (O)         (E)                 0.6                 0.8      0.6   \n",
            "3         (M)         (K)                 0.6                 1.0      0.6   \n",
            "4         (O)         (K)                 0.6                 1.0      0.6   \n",
            "5         (Y)         (K)                 0.6                 1.0      0.6   \n",
            "6      (E, O)         (K)                 0.6                 1.0      0.6   \n",
            "7      (K, O)         (E)                 0.6                 0.8      0.6   \n",
            "8         (O)      (E, K)                 0.6                 0.8      0.6   \n",
            "\n",
            "   confidence  lift  leverage  conviction  zhangs_metric  \n",
            "0         1.0  1.00      0.00         inf            0.0  \n",
            "1         0.8  1.00      0.00         1.0            0.0  \n",
            "2         1.0  1.25      0.12         inf            0.5  \n",
            "3         1.0  1.00      0.00         inf            0.0  \n",
            "4         1.0  1.00      0.00         inf            0.0  \n",
            "5         1.0  1.00      0.00         inf            0.0  \n",
            "6         1.0  1.00      0.00         inf            0.0  \n",
            "7         1.0  1.25      0.12         inf            0.5  \n",
            "8         1.0  1.25      0.12         inf            0.5  \n"
          ]
        },
        {
          "output_type": "stream",
          "name": "stderr",
          "text": [
            "/usr/local/lib/python3.10/dist-packages/ipykernel/ipkernel.py:283: DeprecationWarning: `should_run_async` will not call `transform_cell` automatically in the future. Please pass the result to `transformed_cell` argument and any exception that happen during thetransform in `preprocessing_exc_tuple` in IPython 7.17 and above.\n",
            "  and should_run_async(code)\n"
          ]
        }
      ]
    }
  ]
}